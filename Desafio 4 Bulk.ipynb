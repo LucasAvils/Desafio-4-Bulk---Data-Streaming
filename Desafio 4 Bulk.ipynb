{
 "cells": [
  {
   "cell_type": "code",
   "execution_count": 1,
   "metadata": {},
   "outputs": [],
   "source": [
    "from pyspark.sql import SparkSession\n",
    "\n",
    "from pyspark.sql.functions import from_json, col\n",
    "from pyspark.sql.types import StructType, StructField, StringType"
   ]
  },
  {
   "cell_type": "code",
   "execution_count": 2,
   "metadata": {},
   "outputs": [],
   "source": [
    "spark = SparkSession.builder \\\n",
    "      .master(\"local[1]\") \\\n",
    "      .appName(\"SparkByExamples.com\") \\\n",
    "      .getOrCreate() "
   ]
  },
  {
   "cell_type": "code",
   "execution_count": 5,
   "metadata": {},
   "outputs": [
    {
     "name": "stdout",
     "output_type": "stream",
     "text": [
      "+--------------------+--------+---------+---------------------+-------------------+--------------------+-------+----------------------+\n",
      "| Local de Observação|latitude|longitude|horário de observação|              tempo|Temperatura(°C & °F)|umidade|Vento(Direção e força)|\n",
      "+--------------------+--------+---------+---------------------+-------------------+--------------------+-------+----------------------+\n",
      "|Kodiak, Kodiak Ai...|   57.75|   -152.5| Last Updated on N...|Light Rain Fog/Mist|      37.0 F (2.8 C)|     93|  Northwest at 17.3...|\n",
      "|Kodiak, Kodiak Ai...|   57.75|   -152.5| Last Updated on N...|Light Rain Fog/Mist|      37.0 F (2.8 C)|     93|  Northwest at 17.3...|\n",
      "+--------------------+--------+---------+---------------------+-------------------+--------------------+-------+----------------------+\n",
      "\n"
     ]
    }
   ],
   "source": [
    "df = spark.read.json(\"data.json\")\n",
    "\n",
    "dfDados = df.select('current_observation.location','current_observation.latitude','current_observation.longitude',\n",
    "'current_observation.observation_time','current_observation.weather','current_observation.temperature_string',\n",
    "'current_observation.relative_humidity','current_observation.wind_string')\n",
    "\n",
    "dfDados = dfDados.withColumnRenamed(\"location\",\"Local de Observação\") \\\n",
    "    .withColumnRenamed(\"observation_time\",'horário de observação')\\\n",
    "    .withColumnRenamed(\"weather\",\"tempo\")\\\n",
    "    .withColumnRenamed(\"temperature_string\",\"temperatura(°C & °F)\")\\\n",
    "    .withColumnRenamed(\"relative_humidity\",\"umidade\")\\\n",
    "    .withColumnRenamed(\"wind_string\",\"vento(Direção e força)\")\n",
    "\n",
    "dfDados.show()\n"
   ]
  }
 ],
 "metadata": {
  "kernelspec": {
   "display_name": "Python 3.10.8 64-bit (microsoft store)",
   "language": "python",
   "name": "python3"
  },
  "language_info": {
   "codemirror_mode": {
    "name": "ipython",
    "version": 3
   },
   "file_extension": ".py",
   "mimetype": "text/x-python",
   "name": "python",
   "nbconvert_exporter": "python",
   "pygments_lexer": "ipython3",
   "version": "3.10.8"
  },
  "orig_nbformat": 4,
  "vscode": {
   "interpreter": {
    "hash": "f8ca15d83b6fb72cece3edcf60f6aa40d2cbdeb5c60e0f188ff8c7c65828fd00"
   }
  }
 },
 "nbformat": 4,
 "nbformat_minor": 2
}
